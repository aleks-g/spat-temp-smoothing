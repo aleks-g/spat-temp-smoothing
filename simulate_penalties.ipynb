{
 "cells": [
  {
   "cell_type": "code",
   "execution_count": null,
   "metadata": {},
   "outputs": [],
   "source": [
    "# SPDX-FileCopyrightText: 2022 Aleksander Grochowicz\n",
    "#\n",
    "# SPDX-License-Identifier: GPL-3.0-or-later\n",
    "import copy\n",
    "\n",
    "import numpy as np\n",
    "import pandas as pd\n",
    "\n",
    "import matplotlib.pyplot as plt\n",
    "import matplotlib.ticker as ticker\n",
    "\n",
    "from itertools import product\n",
    "\n",
    "from utilities import (sim_no_flex, sim_trans, sim_storage, sim_full_flex)\n",
    "\n",
    "from multiprocessing import Pool\n"
   ]
  },
  {
   "cell_type": "markdown",
   "metadata": {},
   "source": [
    "# Configuration"
   ]
  },
  {
   "cell_type": "code",
   "execution_count": null,
   "metadata": {},
   "outputs": [],
   "source": [
    "# Simulation\n",
    "solvers = 64 # for parallelisation\n",
    "sample_length = 100\n",
    "batch_size = 100"
   ]
  },
  {
   "cell_type": "code",
   "execution_count": null,
   "metadata": {},
   "outputs": [],
   "source": [
    "# Set-up\n",
    "\n",
    "## Load capacity factors and load data.\n",
    "cf_ts = pd.read_csv(f\"./data/processing/norway_regions_production_corr_{sample_length}y.csv\", index_col=0)\n",
    "dem_ts = pd.read_csv(f\"./data/processing/demand_norway_{sample_length}y.csv\", index_col=0)/24 # Convert to hourly averages\n",
    "dem_ts *= 0.128 # calculation based on NVE, accessed 22/11/2022, and Nordpool data\n",
    "\n",
    "## Capacities\n",
    "x_initial = np.array([3257.,1811.]) # NVE, accessed 22/11/2022\n",
    "#storage_cap = np.array([29.9*1e6, 57.3*1e6])\n",
    "storage_cap = np.array([15000.,30000.]) # enough to cover the max wind demand for more than two weeks\n",
    "generation_cap = np.array([900.,900.]) # should be comparable to transmission\n",
    "transmission_cap = 900. # Statnett, accessed 22/11/2022\n",
    "\n",
    "## Efficiencies\n",
    "eff_c = 0.75 # PyPSA-Eur efficiency for pumped hydro storage (charge)\n",
    "eff_d = 0.9 # PyPSA-Eur efficiency for usual hydro (discharge)\n",
    "\n",
    "# Standard:\n",
    "# x_initial = np.array([3257.,1811.]) # NVE, accessed 22/11/2022\n",
    "# storage_cap = np.array([15000.,30000.]) # enough to cover the max wind demand for more than two weeks\n",
    "# generation_cap = np.array([900.,900.]) # should be comparable to transmission\n",
    "# transmission_cap = 900. # Statnett, accessed 22/11/2022\n",
    "\n",
    "# ## Efficiencies\n",
    "# eff_c = 0.75 # PyPSA-Eur efficiency for pumped hydro storage (charge)\n",
    "# eff_d = 0.9 # PyPSA-Eur efficiency for usual hydro (discharge)"
   ]
  },
  {
   "cell_type": "code",
   "execution_count": null,
   "metadata": {},
   "outputs": [],
   "source": [
    "# Parallel simulation\n",
    "##  Parallelisation functions\n",
    "def parsim_no_flex(x_initial, batch_size, transmission_cap, storage_cap, generation_cap):\n",
    "    penalties, _ = sim_no_flex(x_initial, batch_size, cf_ts, dem_ts)\n",
    "    return pd.concat(penalties).sum(axis=0).mean()\n",
    "\n",
    "def parsim_trans(x_initial, batch_size, transmission_cap, storage_cap, generation_cap):\n",
    "    penalties, _, _, _ = sim_trans(x_initial, transmission_cap, batch_size, cf_ts, dem_ts)\n",
    "    return pd.concat(penalties).sum(axis=0).mean()\n",
    "\n",
    "def parsim_stor(x_initial, batch_size, transmission_cap, storage_cap, generation_cap):\n",
    "    penalties, _, _, _ = sim_storage(x_initial, storage_cap, generation_cap, generation_cap, batch_size, cf_ts, dem_ts, eff_c, eff_d)\n",
    "    return pd.concat(penalties).sum(axis=0).mean()\n",
    "\n",
    "def parsim_full_flex(x_initial, batch_size, transmission_cap, storage_cap, generation_cap):\n",
    "    penalties, _, _, _, _, _ = sim_full_flex(x_initial, transmission_cap, storage_cap, generation_cap, generation_cap, batch_size, cf_ts, dem_ts, eff_c, eff_d)\n",
    "    return pd.concat(penalties).sum(axis=0).mean()"
   ]
  },
  {
   "cell_type": "markdown",
   "metadata": {},
   "source": [
    "# Simulation"
   ]
  },
  {
   "cell_type": "code",
   "execution_count": null,
   "metadata": {},
   "outputs": [],
   "source": [
    "# Main simulation set-up\n",
    "transmission_caps = [transmission_cap]\n",
    "storage_caps = [storage_cap]\n",
    "generation_caps = [generation_cap] \n",
    "\n",
    "scenarios = list(product(transmission_caps, storage_caps, generation_caps))\n",
    "scenario_names = [\"standard\"]"
   ]
  },
  {
   "cell_type": "code",
   "execution_count": null,
   "metadata": {},
   "outputs": [],
   "source": [
    "# Run main simulation\n",
    "\n",
    "for scen, name in zip(scenarios, scenario_names):\n",
    "    # Check for the following capacities:\n",
    "    no_cap = [25.*(130+i) for i in range(110)] # 3250-6000\n",
    "    so_cap = [50.*(37+i) for i in range(163)] # 1850 - 10000\n",
    "    caps = [np.array(c) for c in list(product(no_cap, so_cap))]\n",
    "    capacities = list(product(caps,[batch_size], [scen[0]], [scen[1]], [scen[2]]))\n",
    "\n",
    "    # Run simulations\n",
    "    with Pool(solvers) as pool:\n",
    "        resultsim_no = pool.starmap(parsim_no_flex, capacities)\n",
    "    with Pool(solvers) as pool:\n",
    "        resultsim_t = pool.starmap(parsim_trans, capacities)\n",
    "    with Pool(solvers) as pool:\n",
    "        resultsim_s = pool.starmap(parsim_stor, capacities)\n",
    "    with Pool(solvers) as pool:\n",
    "        resultsim_f = pool.starmap(parsim_full_flex, capacities)\n",
    "\n",
    "    surface_vals = pd.DataFrame(caps, columns = [\"NO-N\", \"NO-S\"])\n",
    "    for res, scen in zip([resultsim_no, resultsim_t, resultsim_s, resultsim_f], [\"no-flex\", \"trans\", \"stor\", \"full-flex\"]):\n",
    "        surface_vals[scen] = res\n",
    "    rel_surface = copy.deepcopy(surface_vals)\n",
    "    for c in reversed([\"no-flex\", \"trans\", \"stor\", \"full-flex\"]):\n",
    "        rel_surface[c] = surface_vals[c]/surface_vals[\"no-flex\"]\n",
    "\n",
    "    surface_vals.to_csv(f\"./results/{name}.csv\")\n",
    "\n",
    "    fig, ax = plt.subplots(figsize=(15,15),subplot_kw={\"projection\": \"3d\"})\n",
    "\n",
    "    X = rel_surface[\"NO-N\"]\n",
    "    Y = rel_surface[\"NO-S\"]\n",
    "\n",
    "    colours = [\"grey\", \"green\", \"orange\", \"blue\"]\n",
    "    cmaps = [\"cividis\", \"YlGn\", \"OrRd\", \"PuBu\"]\n",
    "    for scen, col, maps in zip([\"no-flex\",\"trans\", \"stor\", \"full-flex\",], colours, cmaps):\n",
    "        Z = rel_surface[scen]\n",
    "        ax.scatter3D(X,Y,Z, color=col, label = scen)\n",
    "        ax.plot_trisurf(X,Y,Z, cmap=maps, alpha=0.8)\n",
    "    ax.set_title(f\"Relative penalty depending on capacities, {name[0]}_{name[1]}_{name[2]}\")\n",
    "    ax.set_xlabel(\"Capacities in NO-N\")\n",
    "    ax.set_ylabel(\"Capacities in NO-S\")\n",
    "\n",
    "    fig, ax = plt.subplots(figsize=(15,15),subplot_kw={\"projection\": \"3d\"})\n",
    "\n",
    "    X = surface_vals[\"NO-N\"]\n",
    "    Y = surface_vals[\"NO-S\"]\n",
    "\n",
    "    colours = [\"grey\", \"green\", \"orange\", \"blue\"]\n",
    "    cmaps = [\"cividis\", \"YlGn\", \"OrRd\", \"PuBu\"]\n",
    "    for scen, col, maps in zip([\"no-flex\",\"trans\", \"stor\", \"full-flex\",], colours, cmaps):\n",
    "        Z = surface_vals[scen]\n",
    "        ax.scatter3D(X,Y,Z, color=col, label = scen)\n",
    "        ax.plot_trisurf(X,Y,Z, cmap=maps, alpha=0.8)\n",
    "    ax.set_title(f\"Penalty values depending on capacities, {name[0]}_{name[1]}_{name[2]}\")\n",
    "    ax.set_xlabel(\"Capacities in NO-N\")\n",
    "    ax.set_ylabel(\"Capacities in NO-S\")"
   ]
  },
  {
   "cell_type": "markdown",
   "metadata": {},
   "source": [
    "# Sensitivity analysis"
   ]
  },
  {
   "cell_type": "code",
   "execution_count": null,
   "metadata": {},
   "outputs": [],
   "source": [
    "# Sensitivity analysis set-up\n",
    "transmission_caps = [factor * 900. for factor in [0.5, 0.9, 1.1, 1.5]]\n",
    "storage_caps = [0.5*storage_cap, 0.9 * storage_cap, 1.1 * storage_cap, 1.5 * storage_cap]\n",
    "generation_caps = [0.5*generation_cap, 0.9*generation_cap, 1.1*generation_cap, 1.5*generation_cap, np.array([450.,900.]), np.array([900., 450.]), np.array([1350., 900.]), np.array([900., 1350.])]"
   ]
  },
  {
   "cell_type": "code",
   "execution_count": null,
   "metadata": {},
   "outputs": [],
   "source": [
    "# Transmission sensitivity analysis\n",
    "scenario_names = [f\"trans{factor}\" for factor in [0.5, 0.9, 1.1, 1.5]]\n",
    "scenarios = list(product(transmission_caps, [storage_cap], [generation_cap]))"
   ]
  },
  {
   "cell_type": "code",
   "execution_count": null,
   "metadata": {},
   "outputs": [],
   "source": [
    "# Sensitivity analysis runs\n",
    "for scen, name in zip(scenarios, scenario_names):\n",
    "    # Check for the following capacities:\n",
    "    no_cap = [50.*(64+i) for i in range(59)] # 3200-6000\n",
    "    so_cap = [100.*(18+i) for i in range(82)] # 1800 - 10000\n",
    "    caps = [np.array(c) for c in list(product(no_cap, so_cap))]\n",
    "    capacities = list(product(caps,[batch_size], [scen[0]], [scen[1]], [scen[2]]))\n",
    "\n",
    "    # Run simulations\n",
    "    with Pool(solvers) as pool:\n",
    "        resultsim_no = pool.starmap(parsim_no_flex, capacities)\n",
    "    with Pool(solvers) as pool:\n",
    "        resultsim_t = pool.starmap(parsim_trans, capacities)\n",
    "    with Pool(solvers) as pool:\n",
    "        resultsim_s = pool.starmap(parsim_stor, capacities)\n",
    "    with Pool(solvers) as pool:\n",
    "        resultsim_f = pool.starmap(parsim_full_flex, capacities)\n",
    "\n",
    "    surface_vals = pd.DataFrame(caps, columns = [\"NO-N\", \"NO-S\"])\n",
    "    for res, scen in zip([resultsim_no, resultsim_t, resultsim_s, resultsim_f], [\"no-flex\", \"trans\", \"stor\", \"full-flex\"]):\n",
    "        surface_vals[scen] = res\n",
    "    rel_surface = copy.deepcopy(surface_vals)\n",
    "    for c in reversed([\"no-flex\", \"trans\", \"stor\", \"full-flex\"]):\n",
    "        rel_surface[c] = surface_vals[c]/surface_vals[\"no-flex\"]\n",
    "\n",
    "    surface_vals.to_csv(f\"./results/sensitivity_analysis/{name}.csv\")"
   ]
  },
  {
   "cell_type": "code",
   "execution_count": null,
   "metadata": {},
   "outputs": [],
   "source": [
    "# Storage sensitivity analysis\n",
    "scenario_names = [f\"storage{factor}\" for factor in [0.5, 0.9, 1.1, 1.5]]\n",
    "scenarios = list(product([transmission_cap], storage_caps, [generation_cap]))"
   ]
  },
  {
   "cell_type": "code",
   "execution_count": null,
   "metadata": {},
   "outputs": [],
   "source": [
    "# Sensitivity analysis runs\n",
    "for scen, name in zip(scenarios, scenario_names):\n",
    "    # Check for the following capacities:\n",
    "    no_cap = [50.*(64+i) for i in range(59)] # 3200-6000\n",
    "    so_cap = [100.*(18+i) for i in range(82)] # 1800 - 10000\n",
    "    caps = [np.array(c) for c in list(product(no_cap, so_cap))]\n",
    "    capacities = list(product(caps,[batch_size], [scen[0]], [scen[1]], [scen[2]]))\n",
    "\n",
    "    # Run simulations\n",
    "    with Pool(solvers) as pool:\n",
    "        resultsim_no = pool.starmap(parsim_no_flex, capacities)\n",
    "    with Pool(solvers) as pool:\n",
    "        resultsim_t = pool.starmap(parsim_trans, capacities)\n",
    "    with Pool(solvers) as pool:\n",
    "        resultsim_s = pool.starmap(parsim_stor, capacities)\n",
    "    with Pool(solvers) as pool:\n",
    "        resultsim_f = pool.starmap(parsim_full_flex, capacities)\n",
    "\n",
    "    surface_vals = pd.DataFrame(caps, columns = [\"NO-N\", \"NO-S\"])\n",
    "    for res, scen in zip([resultsim_no, resultsim_t, resultsim_s, resultsim_f], [\"no-flex\", \"trans\", \"stor\", \"full-flex\"]):\n",
    "        surface_vals[scen] = res\n",
    "    rel_surface = copy.deepcopy(surface_vals)\n",
    "    for c in reversed([\"no-flex\", \"trans\", \"stor\", \"full-flex\"]):\n",
    "        rel_surface[c] = surface_vals[c]/surface_vals[\"no-flex\"]\n",
    "\n",
    "    surface_vals.to_csv(f\"./results/sensitivity_analysis/{name}.csv\")"
   ]
  },
  {
   "cell_type": "code",
   "execution_count": null,
   "metadata": {},
   "outputs": [],
   "source": [
    "# Generation sensitivity analysis\n",
    "scenario_names = [\"gen_0.5\", \"gen_0.9\", \"gen_1.1\", \"gen_1.5\", \"gen_N0.5\", \"gen_S0.5\", \"gen_N1.5\", \"gen_S1.5\"]\n",
    "scenarios = list(product([transmission_cap], [storage_cap], generation_caps))"
   ]
  },
  {
   "cell_type": "code",
   "execution_count": null,
   "metadata": {},
   "outputs": [],
   "source": [
    "\n",
    "for scen, name in zip(scenarios, scenario_names):\n",
    "    # Check for the following capacities:\n",
    "    no_cap = [50.*(64+i) for i in range(59)] # 3200-6000\n",
    "    so_cap = [100.*(18+i) for i in range(82)] # 1800 - 10000\n",
    "    caps = [np.array(c) for c in list(product(no_cap, so_cap))]\n",
    "    capacities = list(product(caps,[batch_size], [scen[0]], [scen[1]], [scen[2]]))\n",
    "\n",
    "    # Run simulations\n",
    "    with Pool(solvers) as pool:\n",
    "        resultsim_no = pool.starmap(parsim_no_flex, capacities)\n",
    "    with Pool(solvers) as pool:\n",
    "        resultsim_t = pool.starmap(parsim_trans, capacities)\n",
    "    with Pool(solvers) as pool:\n",
    "        resultsim_s = pool.starmap(parsim_stor, capacities)\n",
    "    with Pool(solvers) as pool:\n",
    "        resultsim_f = pool.starmap(parsim_full_flex, capacities)\n",
    "\n",
    "    surface_vals = pd.DataFrame(caps, columns = [\"NO-N\", \"NO-S\"])\n",
    "    for res, scen in zip([resultsim_no, resultsim_t, resultsim_s, resultsim_f], [\"no-flex\", \"trans\", \"stor\", \"full-flex\"]):\n",
    "        surface_vals[scen] = res\n",
    "    rel_surface = copy.deepcopy(surface_vals)\n",
    "    for c in reversed([\"no-flex\", \"trans\", \"stor\", \"full-flex\"]):\n",
    "        rel_surface[c] = surface_vals[c]/surface_vals[\"no-flex\"]\n",
    "\n",
    "    surface_vals.to_csv(f\"./results/sensitvity_analysis/{name}.csv\")"
   ]
  }
 ],
 "metadata": {
  "kernelspec": {
   "display_name": "Python 3.10.4 ('maa-demand-temp')",
   "language": "python",
   "name": "python3"
  },
  "language_info": {
   "codemirror_mode": {
    "name": "ipython",
    "version": 3
   },
   "file_extension": ".py",
   "mimetype": "text/x-python",
   "name": "python",
   "nbconvert_exporter": "python",
   "pygments_lexer": "ipython3",
   "version": "3.10.4"
  },
  "orig_nbformat": 4,
  "vscode": {
   "interpreter": {
    "hash": "a3ff71518436b3c4f2e5e697839c86bb7cd3916c2142ce0dc26b0f2238ba8258"
   }
  }
 },
 "nbformat": 4,
 "nbformat_minor": 2
}
