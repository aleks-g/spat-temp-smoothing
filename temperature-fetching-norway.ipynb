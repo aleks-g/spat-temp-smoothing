{
 "cells": [
  {
   "cell_type": "code",
   "execution_count": 1,
   "metadata": {},
   "outputs": [],
   "source": [
    "# SPDX-FileCopyrightText: 2022 Aleksander Grochowicz\n",
    "#\n",
    "# SPDX-License-Identifier: GPL-3.0-or-later\n",
    "import xarray as xr\n",
    "import atlite\n",
    "\n",
    "import geopandas as gpd\n",
    "\n",
    "import numpy as np\n",
    "\n",
    "import logging\n",
    "logging.basicConfig(level=logging.INFO)\n",
    "\n",
    "import pandas as pd\n"
   ]
  },
  {
   "cell_type": "code",
   "execution_count": 2,
   "metadata": {},
   "outputs": [
    {
     "name": "stderr",
     "output_type": "stream",
     "text": [
      "INFO:atlite.data:Cutout already prepared.\n",
      "INFO:atlite.data:Cutout already prepared.\n",
      "INFO:atlite.data:Cutout already prepared.\n",
      "INFO:atlite.data:Cutout already prepared.\n",
      "INFO:atlite.data:Cutout already prepared.\n",
      "INFO:atlite.data:Cutout already prepared.\n",
      "INFO:atlite.data:Cutout already prepared.\n",
      "INFO:atlite.data:Cutout already prepared.\n",
      "INFO:atlite.data:Cutout already prepared.\n",
      "INFO:atlite.data:Cutout already prepared.\n",
      "INFO:atlite.data:Cutout already prepared.\n",
      "INFO:atlite.data:Cutout already prepared.\n",
      "INFO:atlite.data:Cutout already prepared.\n",
      "INFO:atlite.data:Cutout already prepared.\n",
      "INFO:atlite.data:Cutout already prepared.\n",
      "INFO:atlite.data:Cutout already prepared.\n",
      "INFO:atlite.data:Cutout already prepared.\n",
      "INFO:atlite.data:Cutout already prepared.\n",
      "INFO:atlite.data:Cutout already prepared.\n",
      "INFO:atlite.data:Cutout already prepared.\n",
      "INFO:atlite.data:Cutout already prepared.\n",
      "INFO:atlite.data:Cutout already prepared.\n",
      "INFO:atlite.data:Cutout already prepared.\n",
      "INFO:atlite.data:Cutout already prepared.\n",
      "INFO:atlite.data:Cutout already prepared.\n",
      "INFO:atlite.data:Cutout already prepared.\n",
      "INFO:atlite.data:Cutout already prepared.\n",
      "INFO:atlite.data:Cutout already prepared.\n",
      "INFO:atlite.data:Cutout already prepared.\n",
      "INFO:atlite.data:Cutout already prepared.\n",
      "INFO:atlite.data:Cutout already prepared.\n"
     ]
    }
   ],
   "source": [
    "years = range(1990,2021)\n",
    "cutouts = {}\n",
    "for y in years:\n",
    "    cutouts[y]= atlite.Cutout(path=\"../../research/modelling/new-cutouts/europe-era5_\" + str(y) +\".nc\",\n",
    "#     module=\"era5\",\n",
    "#     x = slice(4,32),\n",
    "#     y=slice(57,72),\n",
    "#     time=str(y)\n",
    "    )\n",
    "    cutouts[y].prepare()"
   ]
  },
  {
   "cell_type": "code",
   "execution_count": 5,
   "metadata": {},
   "outputs": [],
   "source": [
    "norway = gpd.read_file('data/shapefiles/marketzones_4326.geojson')\n",
    "norway = norway.set_index('ElSpotOmr')"
   ]
  },
  {
   "cell_type": "code",
   "execution_count": 6,
   "metadata": {},
   "outputs": [
    {
     "data": {
      "text/html": [
       "<div>\n",
       "<style scoped>\n",
       "    .dataframe tbody tr th:only-of-type {\n",
       "        vertical-align: middle;\n",
       "    }\n",
       "\n",
       "    .dataframe tbody tr th {\n",
       "        vertical-align: top;\n",
       "    }\n",
       "\n",
       "    .dataframe thead th {\n",
       "        text-align: right;\n",
       "    }\n",
       "</style>\n",
       "<table border=\"1\" class=\"dataframe\">\n",
       "  <thead>\n",
       "    <tr style=\"text-align: right;\">\n",
       "      <th></th>\n",
       "      <th>OBJECTID</th>\n",
       "      <th>Shape_Leng</th>\n",
       "      <th>Shape_Area</th>\n",
       "      <th>geometry</th>\n",
       "    </tr>\n",
       "    <tr>\n",
       "      <th>ElSpotOmr</th>\n",
       "      <th></th>\n",
       "      <th></th>\n",
       "      <th></th>\n",
       "      <th></th>\n",
       "    </tr>\n",
       "  </thead>\n",
       "  <tbody>\n",
       "    <tr>\n",
       "      <th>NO 1</th>\n",
       "      <td>1</td>\n",
       "      <td>1.564837e+06</td>\n",
       "      <td>6.142908e+10</td>\n",
       "      <td>MULTIPOLYGON (((10.92892 62.69609, 10.92947 62...</td>\n",
       "    </tr>\n",
       "    <tr>\n",
       "      <th>NO 4</th>\n",
       "      <td>4</td>\n",
       "      <td>3.254895e+06</td>\n",
       "      <td>2.030709e+11</td>\n",
       "      <td>MULTIPOLYGON (((28.33596 71.29423, 28.36301 71...</td>\n",
       "    </tr>\n",
       "    <tr>\n",
       "      <th>NO 2</th>\n",
       "      <td>2</td>\n",
       "      <td>1.244447e+06</td>\n",
       "      <td>7.019396e+10</td>\n",
       "      <td>MULTIPOLYGON (((5.74061 60.35170, 5.74081 60.3...</td>\n",
       "    </tr>\n",
       "    <tr>\n",
       "      <th>NO 3</th>\n",
       "      <td>3</td>\n",
       "      <td>1.839255e+06</td>\n",
       "      <td>1.048593e+11</td>\n",
       "      <td>MULTIPOLYGON (((10.66344 65.21288, 10.76747 65...</td>\n",
       "    </tr>\n",
       "    <tr>\n",
       "      <th>NO 5</th>\n",
       "      <td>5</td>\n",
       "      <td>1.050565e+06</td>\n",
       "      <td>3.055399e+10</td>\n",
       "      <td>MULTIPOLYGON (((7.41084 61.89793, 7.47890 61.7...</td>\n",
       "    </tr>\n",
       "  </tbody>\n",
       "</table>\n",
       "</div>"
      ],
      "text/plain": [
       "           OBJECTID    Shape_Leng    Shape_Area  \\\n",
       "ElSpotOmr                                         \n",
       "NO 1              1  1.564837e+06  6.142908e+10   \n",
       "NO 4              4  3.254895e+06  2.030709e+11   \n",
       "NO 2              2  1.244447e+06  7.019396e+10   \n",
       "NO 3              3  1.839255e+06  1.048593e+11   \n",
       "NO 5              5  1.050565e+06  3.055399e+10   \n",
       "\n",
       "                                                    geometry  \n",
       "ElSpotOmr                                                     \n",
       "NO 1       MULTIPOLYGON (((10.92892 62.69609, 10.92947 62...  \n",
       "NO 4       MULTIPOLYGON (((28.33596 71.29423, 28.36301 71...  \n",
       "NO 2       MULTIPOLYGON (((5.74061 60.35170, 5.74081 60.3...  \n",
       "NO 3       MULTIPOLYGON (((10.66344 65.21288, 10.76747 65...  \n",
       "NO 5       MULTIPOLYGON (((7.41084 61.89793, 7.47890 61.7...  "
      ]
     },
     "execution_count": 6,
     "metadata": {},
     "output_type": "execute_result"
    }
   ],
   "source": [
    "norway"
   ]
  },
  {
   "cell_type": "code",
   "execution_count": 7,
   "metadata": {},
   "outputs": [
    {
     "name": "stderr",
     "output_type": "stream",
     "text": [
      "INFO:atlite.convert:Convert and aggregate 'temperature'.\n"
     ]
    },
    {
     "name": "stdout",
     "output_type": "stream",
     "text": [
      "[########################################] | 100% Completed |  5.8s\n"
     ]
    },
    {
     "name": "stderr",
     "output_type": "stream",
     "text": [
      "INFO:atlite.convert:Convert and aggregate 'temperature'.\n"
     ]
    },
    {
     "name": "stdout",
     "output_type": "stream",
     "text": [
      "[########################################] | 100% Completed |  5.5s\n"
     ]
    },
    {
     "name": "stderr",
     "output_type": "stream",
     "text": [
      "INFO:atlite.convert:Convert and aggregate 'temperature'.\n"
     ]
    },
    {
     "name": "stdout",
     "output_type": "stream",
     "text": [
      "[########################################] | 100% Completed |  5.5s\n"
     ]
    },
    {
     "name": "stderr",
     "output_type": "stream",
     "text": [
      "INFO:atlite.convert:Convert and aggregate 'temperature'.\n"
     ]
    },
    {
     "name": "stdout",
     "output_type": "stream",
     "text": [
      "[########################################] | 100% Completed |  5.1s\n"
     ]
    },
    {
     "name": "stderr",
     "output_type": "stream",
     "text": [
      "INFO:atlite.convert:Convert and aggregate 'temperature'.\n"
     ]
    },
    {
     "name": "stdout",
     "output_type": "stream",
     "text": [
      "[########################################] | 100% Completed |  5.3s\n"
     ]
    },
    {
     "name": "stderr",
     "output_type": "stream",
     "text": [
      "INFO:atlite.convert:Convert and aggregate 'temperature'.\n"
     ]
    },
    {
     "name": "stdout",
     "output_type": "stream",
     "text": [
      "[########################################] | 100% Completed |  5.9s\n"
     ]
    },
    {
     "name": "stderr",
     "output_type": "stream",
     "text": [
      "INFO:atlite.convert:Convert and aggregate 'temperature'.\n"
     ]
    },
    {
     "name": "stdout",
     "output_type": "stream",
     "text": [
      "[########################################] | 100% Completed |  5.5s\n"
     ]
    },
    {
     "name": "stderr",
     "output_type": "stream",
     "text": [
      "INFO:atlite.convert:Convert and aggregate 'temperature'.\n"
     ]
    },
    {
     "name": "stdout",
     "output_type": "stream",
     "text": [
      "[########################################] | 100% Completed |  5.4s\n"
     ]
    },
    {
     "name": "stderr",
     "output_type": "stream",
     "text": [
      "INFO:atlite.convert:Convert and aggregate 'temperature'.\n"
     ]
    },
    {
     "name": "stdout",
     "output_type": "stream",
     "text": [
      "[########################################] | 100% Completed |  5.5s\n"
     ]
    },
    {
     "name": "stderr",
     "output_type": "stream",
     "text": [
      "INFO:atlite.convert:Convert and aggregate 'temperature'.\n"
     ]
    },
    {
     "name": "stdout",
     "output_type": "stream",
     "text": [
      "[########################################] | 100% Completed |  5.4s\n"
     ]
    },
    {
     "name": "stderr",
     "output_type": "stream",
     "text": [
      "INFO:atlite.convert:Convert and aggregate 'temperature'.\n"
     ]
    },
    {
     "name": "stdout",
     "output_type": "stream",
     "text": [
      "[########################################] | 100% Completed |  5.5s\n"
     ]
    },
    {
     "name": "stderr",
     "output_type": "stream",
     "text": [
      "INFO:atlite.convert:Convert and aggregate 'temperature'.\n"
     ]
    },
    {
     "name": "stdout",
     "output_type": "stream",
     "text": [
      "[########################################] | 100% Completed |  5.5s\n"
     ]
    },
    {
     "name": "stderr",
     "output_type": "stream",
     "text": [
      "INFO:atlite.convert:Convert and aggregate 'temperature'.\n"
     ]
    },
    {
     "name": "stdout",
     "output_type": "stream",
     "text": [
      "[########################################] | 100% Completed |  6.1s\n"
     ]
    },
    {
     "name": "stderr",
     "output_type": "stream",
     "text": [
      "INFO:atlite.convert:Convert and aggregate 'temperature'.\n"
     ]
    },
    {
     "name": "stdout",
     "output_type": "stream",
     "text": [
      "[########################################] | 100% Completed |  6.4s\n"
     ]
    },
    {
     "name": "stderr",
     "output_type": "stream",
     "text": [
      "INFO:atlite.convert:Convert and aggregate 'temperature'.\n"
     ]
    },
    {
     "name": "stdout",
     "output_type": "stream",
     "text": [
      "[########################################] | 100% Completed |  5.7s\n"
     ]
    },
    {
     "name": "stderr",
     "output_type": "stream",
     "text": [
      "INFO:atlite.convert:Convert and aggregate 'temperature'.\n"
     ]
    },
    {
     "name": "stdout",
     "output_type": "stream",
     "text": [
      "[########################################] | 100% Completed |  5.4s\n"
     ]
    },
    {
     "name": "stderr",
     "output_type": "stream",
     "text": [
      "INFO:atlite.convert:Convert and aggregate 'temperature'.\n"
     ]
    },
    {
     "name": "stdout",
     "output_type": "stream",
     "text": [
      "[########################################] | 100% Completed |  5.1s\n"
     ]
    },
    {
     "name": "stderr",
     "output_type": "stream",
     "text": [
      "INFO:atlite.convert:Convert and aggregate 'temperature'.\n"
     ]
    },
    {
     "name": "stdout",
     "output_type": "stream",
     "text": [
      "[########################################] | 100% Completed |  5.3s\n"
     ]
    },
    {
     "name": "stderr",
     "output_type": "stream",
     "text": [
      "INFO:atlite.convert:Convert and aggregate 'temperature'.\n"
     ]
    },
    {
     "name": "stdout",
     "output_type": "stream",
     "text": [
      "[########################################] | 100% Completed |  6.1s\n"
     ]
    },
    {
     "name": "stderr",
     "output_type": "stream",
     "text": [
      "INFO:atlite.convert:Convert and aggregate 'temperature'.\n"
     ]
    },
    {
     "name": "stdout",
     "output_type": "stream",
     "text": [
      "[########################################] | 100% Completed |  5.9s\n"
     ]
    },
    {
     "name": "stderr",
     "output_type": "stream",
     "text": [
      "INFO:atlite.convert:Convert and aggregate 'temperature'.\n"
     ]
    },
    {
     "name": "stdout",
     "output_type": "stream",
     "text": [
      "[########################################] | 100% Completed |  5.2s\n"
     ]
    },
    {
     "name": "stderr",
     "output_type": "stream",
     "text": [
      "INFO:atlite.convert:Convert and aggregate 'temperature'.\n"
     ]
    },
    {
     "name": "stdout",
     "output_type": "stream",
     "text": [
      "[########################################] | 100% Completed |  5.6s\n"
     ]
    },
    {
     "name": "stderr",
     "output_type": "stream",
     "text": [
      "INFO:atlite.convert:Convert and aggregate 'temperature'.\n"
     ]
    },
    {
     "name": "stdout",
     "output_type": "stream",
     "text": [
      "[########################################] | 100% Completed |  5.3s\n"
     ]
    },
    {
     "name": "stderr",
     "output_type": "stream",
     "text": [
      "INFO:atlite.convert:Convert and aggregate 'temperature'.\n"
     ]
    },
    {
     "name": "stdout",
     "output_type": "stream",
     "text": [
      "[########################################] | 100% Completed |  5.7s\n"
     ]
    },
    {
     "name": "stderr",
     "output_type": "stream",
     "text": [
      "INFO:atlite.convert:Convert and aggregate 'temperature'.\n"
     ]
    },
    {
     "name": "stdout",
     "output_type": "stream",
     "text": [
      "[########################################] | 100% Completed |  5.1s\n"
     ]
    },
    {
     "name": "stderr",
     "output_type": "stream",
     "text": [
      "INFO:atlite.convert:Convert and aggregate 'temperature'.\n"
     ]
    },
    {
     "name": "stdout",
     "output_type": "stream",
     "text": [
      "[########################################] | 100% Completed |  5.4s\n"
     ]
    },
    {
     "name": "stderr",
     "output_type": "stream",
     "text": [
      "INFO:atlite.convert:Convert and aggregate 'temperature'.\n"
     ]
    },
    {
     "name": "stdout",
     "output_type": "stream",
     "text": [
      "[########################################] | 100% Completed |  5.7s\n"
     ]
    },
    {
     "name": "stderr",
     "output_type": "stream",
     "text": [
      "INFO:atlite.convert:Convert and aggregate 'temperature'.\n"
     ]
    },
    {
     "name": "stdout",
     "output_type": "stream",
     "text": [
      "[########################################] | 100% Completed |  5.8s\n"
     ]
    },
    {
     "name": "stderr",
     "output_type": "stream",
     "text": [
      "INFO:atlite.convert:Convert and aggregate 'temperature'.\n"
     ]
    },
    {
     "name": "stdout",
     "output_type": "stream",
     "text": [
      "[########################################] | 100% Completed |  6.0s\n"
     ]
    },
    {
     "name": "stderr",
     "output_type": "stream",
     "text": [
      "INFO:atlite.convert:Convert and aggregate 'temperature'.\n"
     ]
    },
    {
     "name": "stdout",
     "output_type": "stream",
     "text": [
      "[########################################] | 100% Completed |  6.6s\n"
     ]
    },
    {
     "name": "stderr",
     "output_type": "stream",
     "text": [
      "INFO:atlite.convert:Convert and aggregate 'temperature'.\n"
     ]
    },
    {
     "name": "stdout",
     "output_type": "stream",
     "text": [
      "[########################################] | 100% Completed |  6.0s\n"
     ]
    }
   ],
   "source": [
    "temp = {} #create dictionary for each year\n",
    "for j in cutouts.keys():\n",
    "    temperatures = cutouts[j].temperature(shapes = norway, per_unit = True) #Converts temperatures from Kelvin to Celsius and also aggregates it to shapes of chosen region.\n",
    "    temp[j] = temperatures"
   ]
  },
  {
   "cell_type": "code",
   "execution_count": 8,
   "metadata": {},
   "outputs": [],
   "source": [
    "zones = list(norway.index)\n",
    "temp_data = xr.concat([temp[j] for j in temp.keys()], dim=\"time\")"
   ]
  },
  {
   "cell_type": "code",
   "execution_count": 12,
   "metadata": {},
   "outputs": [
    {
     "data": {
      "text/plain": [
       "['NO 1', 'NO 4', 'NO 2', 'NO 3', 'NO 5']"
      ]
     },
     "execution_count": 12,
     "metadata": {},
     "output_type": "execute_result"
    }
   ],
   "source": [
    "zones"
   ]
  },
  {
   "cell_type": "code",
   "execution_count": 10,
   "metadata": {},
   "outputs": [
    {
     "data": {
      "text/html": [
       "<div><svg style=\"position: absolute; width: 0; height: 0; overflow: hidden\">\n",
       "<defs>\n",
       "<symbol id=\"icon-database\" viewBox=\"0 0 32 32\">\n",
       "<path d=\"M16 0c-8.837 0-16 2.239-16 5v4c0 2.761 7.163 5 16 5s16-2.239 16-5v-4c0-2.761-7.163-5-16-5z\"></path>\n",
       "<path d=\"M16 17c-8.837 0-16-2.239-16-5v6c0 2.761 7.163 5 16 5s16-2.239 16-5v-6c0 2.761-7.163 5-16 5z\"></path>\n",
       "<path d=\"M16 26c-8.837 0-16-2.239-16-5v6c0 2.761 7.163 5 16 5s16-2.239 16-5v-6c0 2.761-7.163 5-16 5z\"></path>\n",
       "</symbol>\n",
       "<symbol id=\"icon-file-text2\" viewBox=\"0 0 32 32\">\n",
       "<path d=\"M28.681 7.159c-0.694-0.947-1.662-2.053-2.724-3.116s-2.169-2.030-3.116-2.724c-1.612-1.182-2.393-1.319-2.841-1.319h-15.5c-1.378 0-2.5 1.121-2.5 2.5v27c0 1.378 1.122 2.5 2.5 2.5h23c1.378 0 2.5-1.122 2.5-2.5v-19.5c0-0.448-0.137-1.23-1.319-2.841zM24.543 5.457c0.959 0.959 1.712 1.825 2.268 2.543h-4.811v-4.811c0.718 0.556 1.584 1.309 2.543 2.268zM28 29.5c0 0.271-0.229 0.5-0.5 0.5h-23c-0.271 0-0.5-0.229-0.5-0.5v-27c0-0.271 0.229-0.5 0.5-0.5 0 0 15.499-0 15.5 0v7c0 0.552 0.448 1 1 1h7v19.5z\"></path>\n",
       "<path d=\"M23 26h-14c-0.552 0-1-0.448-1-1s0.448-1 1-1h14c0.552 0 1 0.448 1 1s-0.448 1-1 1z\"></path>\n",
       "<path d=\"M23 22h-14c-0.552 0-1-0.448-1-1s0.448-1 1-1h14c0.552 0 1 0.448 1 1s-0.448 1-1 1z\"></path>\n",
       "<path d=\"M23 18h-14c-0.552 0-1-0.448-1-1s0.448-1 1-1h14c0.552 0 1 0.448 1 1s-0.448 1-1 1z\"></path>\n",
       "</symbol>\n",
       "</defs>\n",
       "</svg>\n",
       "<style>/* CSS stylesheet for displaying xarray objects in jupyterlab.\n",
       " *\n",
       " */\n",
       "\n",
       ":root {\n",
       "  --xr-font-color0: var(--jp-content-font-color0, rgba(0, 0, 0, 1));\n",
       "  --xr-font-color2: var(--jp-content-font-color2, rgba(0, 0, 0, 0.54));\n",
       "  --xr-font-color3: var(--jp-content-font-color3, rgba(0, 0, 0, 0.38));\n",
       "  --xr-border-color: var(--jp-border-color2, #e0e0e0);\n",
       "  --xr-disabled-color: var(--jp-layout-color3, #bdbdbd);\n",
       "  --xr-background-color: var(--jp-layout-color0, white);\n",
       "  --xr-background-color-row-even: var(--jp-layout-color1, white);\n",
       "  --xr-background-color-row-odd: var(--jp-layout-color2, #eeeeee);\n",
       "}\n",
       "\n",
       "html[theme=dark],\n",
       "body.vscode-dark {\n",
       "  --xr-font-color0: rgba(255, 255, 255, 1);\n",
       "  --xr-font-color2: rgba(255, 255, 255, 0.54);\n",
       "  --xr-font-color3: rgba(255, 255, 255, 0.38);\n",
       "  --xr-border-color: #1F1F1F;\n",
       "  --xr-disabled-color: #515151;\n",
       "  --xr-background-color: #111111;\n",
       "  --xr-background-color-row-even: #111111;\n",
       "  --xr-background-color-row-odd: #313131;\n",
       "}\n",
       "\n",
       ".xr-wrap {\n",
       "  display: block;\n",
       "  min-width: 300px;\n",
       "  max-width: 700px;\n",
       "}\n",
       "\n",
       ".xr-text-repr-fallback {\n",
       "  /* fallback to plain text repr when CSS is not injected (untrusted notebook) */\n",
       "  display: none;\n",
       "}\n",
       "\n",
       ".xr-header {\n",
       "  padding-top: 6px;\n",
       "  padding-bottom: 6px;\n",
       "  margin-bottom: 4px;\n",
       "  border-bottom: solid 1px var(--xr-border-color);\n",
       "}\n",
       "\n",
       ".xr-header > div,\n",
       ".xr-header > ul {\n",
       "  display: inline;\n",
       "  margin-top: 0;\n",
       "  margin-bottom: 0;\n",
       "}\n",
       "\n",
       ".xr-obj-type,\n",
       ".xr-array-name {\n",
       "  margin-left: 2px;\n",
       "  margin-right: 10px;\n",
       "}\n",
       "\n",
       ".xr-obj-type {\n",
       "  color: var(--xr-font-color2);\n",
       "}\n",
       "\n",
       ".xr-sections {\n",
       "  padding-left: 0 !important;\n",
       "  display: grid;\n",
       "  grid-template-columns: 150px auto auto 1fr 20px 20px;\n",
       "}\n",
       "\n",
       ".xr-section-item {\n",
       "  display: contents;\n",
       "}\n",
       "\n",
       ".xr-section-item input {\n",
       "  display: none;\n",
       "}\n",
       "\n",
       ".xr-section-item input + label {\n",
       "  color: var(--xr-disabled-color);\n",
       "}\n",
       "\n",
       ".xr-section-item input:enabled + label {\n",
       "  cursor: pointer;\n",
       "  color: var(--xr-font-color2);\n",
       "}\n",
       "\n",
       ".xr-section-item input:enabled + label:hover {\n",
       "  color: var(--xr-font-color0);\n",
       "}\n",
       "\n",
       ".xr-section-summary {\n",
       "  grid-column: 1;\n",
       "  color: var(--xr-font-color2);\n",
       "  font-weight: 500;\n",
       "}\n",
       "\n",
       ".xr-section-summary > span {\n",
       "  display: inline-block;\n",
       "  padding-left: 0.5em;\n",
       "}\n",
       "\n",
       ".xr-section-summary-in:disabled + label {\n",
       "  color: var(--xr-font-color2);\n",
       "}\n",
       "\n",
       ".xr-section-summary-in + label:before {\n",
       "  display: inline-block;\n",
       "  content: '►';\n",
       "  font-size: 11px;\n",
       "  width: 15px;\n",
       "  text-align: center;\n",
       "}\n",
       "\n",
       ".xr-section-summary-in:disabled + label:before {\n",
       "  color: var(--xr-disabled-color);\n",
       "}\n",
       "\n",
       ".xr-section-summary-in:checked + label:before {\n",
       "  content: '▼';\n",
       "}\n",
       "\n",
       ".xr-section-summary-in:checked + label > span {\n",
       "  display: none;\n",
       "}\n",
       "\n",
       ".xr-section-summary,\n",
       ".xr-section-inline-details {\n",
       "  padding-top: 4px;\n",
       "  padding-bottom: 4px;\n",
       "}\n",
       "\n",
       ".xr-section-inline-details {\n",
       "  grid-column: 2 / -1;\n",
       "}\n",
       "\n",
       ".xr-section-details {\n",
       "  display: none;\n",
       "  grid-column: 1 / -1;\n",
       "  margin-bottom: 5px;\n",
       "}\n",
       "\n",
       ".xr-section-summary-in:checked ~ .xr-section-details {\n",
       "  display: contents;\n",
       "}\n",
       "\n",
       ".xr-array-wrap {\n",
       "  grid-column: 1 / -1;\n",
       "  display: grid;\n",
       "  grid-template-columns: 20px auto;\n",
       "}\n",
       "\n",
       ".xr-array-wrap > label {\n",
       "  grid-column: 1;\n",
       "  vertical-align: top;\n",
       "}\n",
       "\n",
       ".xr-preview {\n",
       "  color: var(--xr-font-color3);\n",
       "}\n",
       "\n",
       ".xr-array-preview,\n",
       ".xr-array-data {\n",
       "  padding: 0 5px !important;\n",
       "  grid-column: 2;\n",
       "}\n",
       "\n",
       ".xr-array-data,\n",
       ".xr-array-in:checked ~ .xr-array-preview {\n",
       "  display: none;\n",
       "}\n",
       "\n",
       ".xr-array-in:checked ~ .xr-array-data,\n",
       ".xr-array-preview {\n",
       "  display: inline-block;\n",
       "}\n",
       "\n",
       ".xr-dim-list {\n",
       "  display: inline-block !important;\n",
       "  list-style: none;\n",
       "  padding: 0 !important;\n",
       "  margin: 0;\n",
       "}\n",
       "\n",
       ".xr-dim-list li {\n",
       "  display: inline-block;\n",
       "  padding: 0;\n",
       "  margin: 0;\n",
       "}\n",
       "\n",
       ".xr-dim-list:before {\n",
       "  content: '(';\n",
       "}\n",
       "\n",
       ".xr-dim-list:after {\n",
       "  content: ')';\n",
       "}\n",
       "\n",
       ".xr-dim-list li:not(:last-child):after {\n",
       "  content: ',';\n",
       "  padding-right: 5px;\n",
       "}\n",
       "\n",
       ".xr-has-index {\n",
       "  font-weight: bold;\n",
       "}\n",
       "\n",
       ".xr-var-list,\n",
       ".xr-var-item {\n",
       "  display: contents;\n",
       "}\n",
       "\n",
       ".xr-var-item > div,\n",
       ".xr-var-item label,\n",
       ".xr-var-item > .xr-var-name span {\n",
       "  background-color: var(--xr-background-color-row-even);\n",
       "  margin-bottom: 0;\n",
       "}\n",
       "\n",
       ".xr-var-item > .xr-var-name:hover span {\n",
       "  padding-right: 5px;\n",
       "}\n",
       "\n",
       ".xr-var-list > li:nth-child(odd) > div,\n",
       ".xr-var-list > li:nth-child(odd) > label,\n",
       ".xr-var-list > li:nth-child(odd) > .xr-var-name span {\n",
       "  background-color: var(--xr-background-color-row-odd);\n",
       "}\n",
       "\n",
       ".xr-var-name {\n",
       "  grid-column: 1;\n",
       "}\n",
       "\n",
       ".xr-var-dims {\n",
       "  grid-column: 2;\n",
       "}\n",
       "\n",
       ".xr-var-dtype {\n",
       "  grid-column: 3;\n",
       "  text-align: right;\n",
       "  color: var(--xr-font-color2);\n",
       "}\n",
       "\n",
       ".xr-var-preview {\n",
       "  grid-column: 4;\n",
       "}\n",
       "\n",
       ".xr-var-name,\n",
       ".xr-var-dims,\n",
       ".xr-var-dtype,\n",
       ".xr-preview,\n",
       ".xr-attrs dt {\n",
       "  white-space: nowrap;\n",
       "  overflow: hidden;\n",
       "  text-overflow: ellipsis;\n",
       "  padding-right: 10px;\n",
       "}\n",
       "\n",
       ".xr-var-name:hover,\n",
       ".xr-var-dims:hover,\n",
       ".xr-var-dtype:hover,\n",
       ".xr-attrs dt:hover {\n",
       "  overflow: visible;\n",
       "  width: auto;\n",
       "  z-index: 1;\n",
       "}\n",
       "\n",
       ".xr-var-attrs,\n",
       ".xr-var-data {\n",
       "  display: none;\n",
       "  background-color: var(--xr-background-color) !important;\n",
       "  padding-bottom: 5px !important;\n",
       "}\n",
       "\n",
       ".xr-var-attrs-in:checked ~ .xr-var-attrs,\n",
       ".xr-var-data-in:checked ~ .xr-var-data {\n",
       "  display: block;\n",
       "}\n",
       "\n",
       ".xr-var-data > table {\n",
       "  float: right;\n",
       "}\n",
       "\n",
       ".xr-var-name span,\n",
       ".xr-var-data,\n",
       ".xr-attrs {\n",
       "  padding-left: 25px !important;\n",
       "}\n",
       "\n",
       ".xr-attrs,\n",
       ".xr-var-attrs,\n",
       ".xr-var-data {\n",
       "  grid-column: 1 / -1;\n",
       "}\n",
       "\n",
       "dl.xr-attrs {\n",
       "  padding: 0;\n",
       "  margin: 0;\n",
       "  display: grid;\n",
       "  grid-template-columns: 125px auto;\n",
       "}\n",
       "\n",
       ".xr-attrs dt,\n",
       ".xr-attrs dd {\n",
       "  padding: 0;\n",
       "  margin: 0;\n",
       "  float: left;\n",
       "  padding-right: 10px;\n",
       "  width: auto;\n",
       "}\n",
       "\n",
       ".xr-attrs dt {\n",
       "  font-weight: normal;\n",
       "  grid-column: 1;\n",
       "}\n",
       "\n",
       ".xr-attrs dt:hover span {\n",
       "  display: inline-block;\n",
       "  background: var(--xr-background-color);\n",
       "  padding-right: 10px;\n",
       "}\n",
       "\n",
       ".xr-attrs dd {\n",
       "  grid-column: 2;\n",
       "  white-space: pre-wrap;\n",
       "  word-break: break-all;\n",
       "}\n",
       "\n",
       ".xr-icon-database,\n",
       ".xr-icon-file-text2 {\n",
       "  display: inline-block;\n",
       "  vertical-align: middle;\n",
       "  width: 1em;\n",
       "  height: 1.5em !important;\n",
       "  stroke-width: 0;\n",
       "  stroke: currentColor;\n",
       "  fill: currentColor;\n",
       "}\n",
       "</style><pre class='xr-text-repr-fallback'>&lt;xarray.DataArray (time: 271752, ElSpotOmr: 5)&gt;\n",
       "array([[-14.69907226,   0.76083738,  -6.14495973,  -5.59082358,\n",
       "        -12.30153583],\n",
       "       [-14.75468273,   0.60052685,  -6.21486175,  -5.72576104,\n",
       "        -12.51750308],\n",
       "       [-14.62971106,   0.30947247,  -6.07225383,  -5.95929069,\n",
       "        -12.58705647],\n",
       "       ...,\n",
       "       [ -4.00863957,  -1.91114534,  -0.57257852,  -2.22861129,\n",
       "         -3.56411924],\n",
       "       [ -4.4464808 ,  -1.8157129 ,  -0.79803747,  -2.45555066,\n",
       "         -3.55556677],\n",
       "       [ -4.54105607,  -1.77906532,  -0.81988007,  -2.54230924,\n",
       "         -3.91561446]])\n",
       "Coordinates:\n",
       "  * time       (time) datetime64[ns] 1990-01-01 ... 2020-12-31T23:00:00\n",
       "  * ElSpotOmr  (ElSpotOmr) object &#x27;NO 1&#x27; &#x27;NO 4&#x27; &#x27;NO 2&#x27; &#x27;NO 3&#x27; &#x27;NO 5&#x27;\n",
       "Attributes:\n",
       "    units:    p.u.</pre><div class='xr-wrap' hidden><div class='xr-header'><div class='xr-obj-type'>xarray.DataArray</div><div class='xr-array-name'></div><ul class='xr-dim-list'><li><span class='xr-has-index'>time</span>: 271752</li><li><span class='xr-has-index'>ElSpotOmr</span>: 5</li></ul></div><ul class='xr-sections'><li class='xr-section-item'><div class='xr-array-wrap'><input id='section-831c5011-071d-4cf3-bce8-dc10d991831e' class='xr-array-in' type='checkbox' checked><label for='section-831c5011-071d-4cf3-bce8-dc10d991831e' title='Show/hide data repr'><svg class='icon xr-icon-database'><use xlink:href='#icon-database'></use></svg></label><div class='xr-array-preview xr-preview'><span>-14.7 0.7608 -6.145 -5.591 -12.3 ... -1.779 -0.8199 -2.542 -3.916</span></div><div class='xr-array-data'><pre>array([[-14.69907226,   0.76083738,  -6.14495973,  -5.59082358,\n",
       "        -12.30153583],\n",
       "       [-14.75468273,   0.60052685,  -6.21486175,  -5.72576104,\n",
       "        -12.51750308],\n",
       "       [-14.62971106,   0.30947247,  -6.07225383,  -5.95929069,\n",
       "        -12.58705647],\n",
       "       ...,\n",
       "       [ -4.00863957,  -1.91114534,  -0.57257852,  -2.22861129,\n",
       "         -3.56411924],\n",
       "       [ -4.4464808 ,  -1.8157129 ,  -0.79803747,  -2.45555066,\n",
       "         -3.55556677],\n",
       "       [ -4.54105607,  -1.77906532,  -0.81988007,  -2.54230924,\n",
       "         -3.91561446]])</pre></div></div></li><li class='xr-section-item'><input id='section-6bbcd32d-2e04-4dd4-adaf-098b1f8dfcd0' class='xr-section-summary-in' type='checkbox'  checked><label for='section-6bbcd32d-2e04-4dd4-adaf-098b1f8dfcd0' class='xr-section-summary' >Coordinates: <span>(2)</span></label><div class='xr-section-inline-details'></div><div class='xr-section-details'><ul class='xr-var-list'><li class='xr-var-item'><div class='xr-var-name'><span class='xr-has-index'>time</span></div><div class='xr-var-dims'>(time)</div><div class='xr-var-dtype'>datetime64[ns]</div><div class='xr-var-preview xr-preview'>1990-01-01 ... 2020-12-31T23:00:00</div><input id='attrs-5efb14d8-8f3b-4b2a-94d8-90395ee8671a' class='xr-var-attrs-in' type='checkbox' disabled><label for='attrs-5efb14d8-8f3b-4b2a-94d8-90395ee8671a' title='Show/Hide attributes'><svg class='icon xr-icon-file-text2'><use xlink:href='#icon-file-text2'></use></svg></label><input id='data-671442fe-4f61-4c75-8f9b-4cf91b18d52b' class='xr-var-data-in' type='checkbox'><label for='data-671442fe-4f61-4c75-8f9b-4cf91b18d52b' title='Show/Hide data repr'><svg class='icon xr-icon-database'><use xlink:href='#icon-database'></use></svg></label><div class='xr-var-attrs'><dl class='xr-attrs'></dl></div><div class='xr-var-data'><pre>array([&#x27;1990-01-01T00:00:00.000000000&#x27;, &#x27;1990-01-01T01:00:00.000000000&#x27;,\n",
       "       &#x27;1990-01-01T02:00:00.000000000&#x27;, ..., &#x27;2020-12-31T21:00:00.000000000&#x27;,\n",
       "       &#x27;2020-12-31T22:00:00.000000000&#x27;, &#x27;2020-12-31T23:00:00.000000000&#x27;],\n",
       "      dtype=&#x27;datetime64[ns]&#x27;)</pre></div></li><li class='xr-var-item'><div class='xr-var-name'><span class='xr-has-index'>ElSpotOmr</span></div><div class='xr-var-dims'>(ElSpotOmr)</div><div class='xr-var-dtype'>object</div><div class='xr-var-preview xr-preview'>&#x27;NO 1&#x27; &#x27;NO 4&#x27; &#x27;NO 2&#x27; &#x27;NO 3&#x27; &#x27;NO 5&#x27;</div><input id='attrs-98e1d3d8-b094-4027-9575-a2ca7ec5b274' class='xr-var-attrs-in' type='checkbox' disabled><label for='attrs-98e1d3d8-b094-4027-9575-a2ca7ec5b274' title='Show/Hide attributes'><svg class='icon xr-icon-file-text2'><use xlink:href='#icon-file-text2'></use></svg></label><input id='data-5eddc2c7-cdf9-40ad-adee-0ebaa17d7e30' class='xr-var-data-in' type='checkbox'><label for='data-5eddc2c7-cdf9-40ad-adee-0ebaa17d7e30' title='Show/Hide data repr'><svg class='icon xr-icon-database'><use xlink:href='#icon-database'></use></svg></label><div class='xr-var-attrs'><dl class='xr-attrs'></dl></div><div class='xr-var-data'><pre>array([&#x27;NO 1&#x27;, &#x27;NO 4&#x27;, &#x27;NO 2&#x27;, &#x27;NO 3&#x27;, &#x27;NO 5&#x27;], dtype=object)</pre></div></li></ul></div></li><li class='xr-section-item'><input id='section-86803403-f5ae-49eb-983a-979ace05b152' class='xr-section-summary-in' type='checkbox'  checked><label for='section-86803403-f5ae-49eb-983a-979ace05b152' class='xr-section-summary' >Attributes: <span>(1)</span></label><div class='xr-section-inline-details'></div><div class='xr-section-details'><dl class='xr-attrs'><dt><span>units :</span></dt><dd>p.u.</dd></dl></div></li></ul></div></div>"
      ],
      "text/plain": [
       "<xarray.DataArray (time: 271752, ElSpotOmr: 5)>\n",
       "array([[-14.69907226,   0.76083738,  -6.14495973,  -5.59082358,\n",
       "        -12.30153583],\n",
       "       [-14.75468273,   0.60052685,  -6.21486175,  -5.72576104,\n",
       "        -12.51750308],\n",
       "       [-14.62971106,   0.30947247,  -6.07225383,  -5.95929069,\n",
       "        -12.58705647],\n",
       "       ...,\n",
       "       [ -4.00863957,  -1.91114534,  -0.57257852,  -2.22861129,\n",
       "         -3.56411924],\n",
       "       [ -4.4464808 ,  -1.8157129 ,  -0.79803747,  -2.45555066,\n",
       "         -3.55556677],\n",
       "       [ -4.54105607,  -1.77906532,  -0.81988007,  -2.54230924,\n",
       "         -3.91561446]])\n",
       "Coordinates:\n",
       "  * time       (time) datetime64[ns] 1990-01-01 ... 2020-12-31T23:00:00\n",
       "  * ElSpotOmr  (ElSpotOmr) object 'NO 1' 'NO 4' 'NO 2' 'NO 3' 'NO 5'\n",
       "Attributes:\n",
       "    units:    p.u."
      ]
     },
     "execution_count": 10,
     "metadata": {},
     "output_type": "execute_result"
    }
   ],
   "source": [
    "temp_data"
   ]
  },
  {
   "cell_type": "code",
   "execution_count": 20,
   "metadata": {},
   "outputs": [],
   "source": [
    "temps = temp_data.to_pandas()"
   ]
  },
  {
   "cell_type": "code",
   "execution_count": 21,
   "metadata": {},
   "outputs": [
    {
     "data": {
      "text/html": [
       "<div>\n",
       "<style scoped>\n",
       "    .dataframe tbody tr th:only-of-type {\n",
       "        vertical-align: middle;\n",
       "    }\n",
       "\n",
       "    .dataframe tbody tr th {\n",
       "        vertical-align: top;\n",
       "    }\n",
       "\n",
       "    .dataframe thead th {\n",
       "        text-align: right;\n",
       "    }\n",
       "</style>\n",
       "<table border=\"1\" class=\"dataframe\">\n",
       "  <thead>\n",
       "    <tr style=\"text-align: right;\">\n",
       "      <th></th>\n",
       "      <th>OBJECTID</th>\n",
       "      <th>Shape_Leng</th>\n",
       "      <th>Shape_Area</th>\n",
       "      <th>geometry</th>\n",
       "    </tr>\n",
       "    <tr>\n",
       "      <th>ElSpotOmr</th>\n",
       "      <th></th>\n",
       "      <th></th>\n",
       "      <th></th>\n",
       "      <th></th>\n",
       "    </tr>\n",
       "  </thead>\n",
       "  <tbody>\n",
       "    <tr>\n",
       "      <th>NO 1</th>\n",
       "      <td>1</td>\n",
       "      <td>1.564837e+06</td>\n",
       "      <td>6.142908e+10</td>\n",
       "      <td>MULTIPOLYGON (((10.92892 62.69609, 10.92947 62...</td>\n",
       "    </tr>\n",
       "    <tr>\n",
       "      <th>NO 4</th>\n",
       "      <td>4</td>\n",
       "      <td>3.254895e+06</td>\n",
       "      <td>2.030709e+11</td>\n",
       "      <td>MULTIPOLYGON (((28.33596 71.29423, 28.36301 71...</td>\n",
       "    </tr>\n",
       "    <tr>\n",
       "      <th>NO 2</th>\n",
       "      <td>2</td>\n",
       "      <td>1.244447e+06</td>\n",
       "      <td>7.019396e+10</td>\n",
       "      <td>MULTIPOLYGON (((5.74061 60.35170, 5.74081 60.3...</td>\n",
       "    </tr>\n",
       "    <tr>\n",
       "      <th>NO 3</th>\n",
       "      <td>3</td>\n",
       "      <td>1.839255e+06</td>\n",
       "      <td>1.048593e+11</td>\n",
       "      <td>MULTIPOLYGON (((10.66344 65.21288, 10.76747 65...</td>\n",
       "    </tr>\n",
       "    <tr>\n",
       "      <th>NO 5</th>\n",
       "      <td>5</td>\n",
       "      <td>1.050565e+06</td>\n",
       "      <td>3.055399e+10</td>\n",
       "      <td>MULTIPOLYGON (((7.41084 61.89793, 7.47890 61.7...</td>\n",
       "    </tr>\n",
       "  </tbody>\n",
       "</table>\n",
       "</div>"
      ],
      "text/plain": [
       "           OBJECTID    Shape_Leng    Shape_Area  \\\n",
       "ElSpotOmr                                         \n",
       "NO 1              1  1.564837e+06  6.142908e+10   \n",
       "NO 4              4  3.254895e+06  2.030709e+11   \n",
       "NO 2              2  1.244447e+06  7.019396e+10   \n",
       "NO 3              3  1.839255e+06  1.048593e+11   \n",
       "NO 5              5  1.050565e+06  3.055399e+10   \n",
       "\n",
       "                                                    geometry  \n",
       "ElSpotOmr                                                     \n",
       "NO 1       MULTIPOLYGON (((10.92892 62.69609, 10.92947 62...  \n",
       "NO 4       MULTIPOLYGON (((28.33596 71.29423, 28.36301 71...  \n",
       "NO 2       MULTIPOLYGON (((5.74061 60.35170, 5.74081 60.3...  \n",
       "NO 3       MULTIPOLYGON (((10.66344 65.21288, 10.76747 65...  \n",
       "NO 5       MULTIPOLYGON (((7.41084 61.89793, 7.47890 61.7...  "
      ]
     },
     "execution_count": 21,
     "metadata": {},
     "output_type": "execute_result"
    }
   ],
   "source": [
    "norway"
   ]
  },
  {
   "cell_type": "code",
   "execution_count": 29,
   "metadata": {},
   "outputs": [],
   "source": [
    "south_area = sum(norway.loc[i, \"Shape_Area\"] for i in [\"NO 1\", \"NO 2\", \"NO 5\"])\n",
    "north_area = sum(norway.loc[i, \"Shape_Area\"] for i in [\"NO 3\", \"NO 4\"])\n",
    "south_shares = {}\n",
    "north_shares = {}\n",
    "for i in [\"NO 1\", \"NO 2\", \"NO 5\"]:\n",
    "    south_shares[i] = round(norway.loc[i, \"Shape_Area\"]/south_area,3)\n",
    "for i in [\"NO 3\", \"NO 4\"]:\n",
    "    north_shares[i] = round(norway.loc[i, \"Shape_Area\"]/north_area,3)"
   ]
  },
  {
   "cell_type": "code",
   "execution_count": 37,
   "metadata": {},
   "outputs": [],
   "source": [
    "data = pd.DataFrame(index = temps.index)\n",
    "data[\"NO-N\"] = sum(temps[i] * north_shares[i] for i in [\"NO 3\", \"NO 4\"])\n",
    "data[\"NO-S\"] = sum(temps[i] * south_shares[i] for i in [\"NO 1\", \"NO 2\", \"NO 5\"])\n",
    "data = data.round(2)"
   ]
  },
  {
   "cell_type": "code",
   "execution_count": 38,
   "metadata": {},
   "outputs": [],
   "source": [
    "data.to_csv(\"./data/weather-input/ERA5_temperatures_1991-2020_norway_regions.csv\")"
   ]
  },
  {
   "cell_type": "code",
   "execution_count": null,
   "metadata": {},
   "outputs": [],
   "source": []
  }
 ],
 "metadata": {
  "kernelspec": {
   "display_name": "Python 3.8.12 ('dem-temp')",
   "language": "python",
   "name": "python3"
  },
  "language_info": {
   "codemirror_mode": {
    "name": "ipython",
    "version": 3
   },
   "file_extension": ".py",
   "mimetype": "text/x-python",
   "name": "python",
   "nbconvert_exporter": "python",
   "pygments_lexer": "ipython3",
   "version": "3.10.8"
  },
  "orig_nbformat": 4,
  "vscode": {
   "interpreter": {
    "hash": "75977c85990619d1647f36589d3e4595fb105b474683d763bf223bafd2ba259d"
   }
  }
 },
 "nbformat": 4,
 "nbformat_minor": 2
}
